{
 "cells": [
  {
   "cell_type": "markdown",
   "metadata": {},
   "source": [
    "# Capstone Project - Predicting User Sentiments- Solution (Upload)"
   ]
  },
  {
   "cell_type": "markdown",
   "metadata": {},
   "source": [
    "### Business Problem\n",
    "##### (A description of the problem and a discussion of the background)"
   ]
  },
  {
   "cell_type": "markdown",
   "metadata": {},
   "source": [
    "You are hired as a data scientist by a restaurant chain (probably the most prestigious) to tune the business based on customer review.  It is found that recently there is a decline of 5% in the revienue in the last quarter. The restaurant management want to analyze the current situation and see what the individual customer feel about the restaurant. \n",
    "\n",
    "The Restaurant management decided to give a bonus point for their customer if they give a review (good or bad) in foursquare website in their venue in the chain of business. \n",
    "\n",
    "As there are many outlets and many thousands of users for the restaurants looking at each comment and review is not possible. So, as a data scientist, you are asked to prepare a model to predict if the user is happy or unhappy based on the comments without reading each and every line in it. \n",
    "\n",
    "The management also want to see what are the main keyword in the review (positive and negative) based on which the management can take actions.\n",
    "\n"
   ]
  },
  {
   "cell_type": "markdown",
   "metadata": {},
   "source": [
    "### Summary of Our Solution \n",
    "##### (A description of the data and how it will be used to solve the problem)"
   ]
  },
  {
   "cell_type": "markdown",
   "metadata": {},
   "source": [
    "### Overview of the solution\n",
    "\n",
    "A robust prediction model need to be prepared based on the available reviews and scroes that is available. The avaialable soruce for sentiments and its rating need to be reliable. Once we recive the data(in our case we got a <b>keggle dataset</b>), the data need to be analyzed and make sure that we have enough data to try with.\n",
    "    \n",
    "Once we get the data, we do cleaning, remove stop words and vectorize it so that we can apply different machine learning algorithms. In our case, we use a classification algorithm to classify the comments from 1 - 3. \n",
    "\n",
    "Based on the words, we can find different words which can be identified as bad reviws and make some special care about those cases. \n",
    "\n",
    "Once we prepare the model, we could use the model to find the specific venue in the foursqure and find the recent user comments. Also check if the user comments are positive or negative. If they are negative, take special care and make necessary actions to rectify those bad reviews based on the keywords used in the review. \n",
    " \n",
    "We use sentiment analysis in scilearn to make a predictive model in order to see if the user review is positive, negative, or nutral.\n",
    "\n",
    "We will use the available sentiments from different restaurants to train the model. Based on the trained model, we will test the prediction based on sample test data. once the testing is found successful, we will use the new reviews from the user and give a score based on the trained model"
   ]
  },
  {
   "cell_type": "markdown",
   "metadata": {},
   "source": [
    "<hr>"
   ]
  },
  {
   "cell_type": "markdown",
   "metadata": {},
   "source": [
    "## 1. Data Preparation Stage"
   ]
  },
  {
   "cell_type": "markdown",
   "metadata": {},
   "source": [
    "#### 1.1 importing data"
   ]
  },
  {
   "cell_type": "markdown",
   "metadata": {},
   "source": [
    "First import necessary packages such as pandas, geocoer and HTTP Requests"
   ]
  },
  {
   "cell_type": "code",
   "execution_count": 33,
   "metadata": {},
   "outputs": [],
   "source": [
    "import pandas as pd\n",
    "import geocoder # import geocoder\n",
    "import requests # library to handle requests\n",
    "from nltk import *"
   ]
  },
  {
   "cell_type": "markdown",
   "metadata": {},
   "source": [
    "#### 1.2 Now we need to find the dataset for training the sentiments analysis"
   ]
  },
  {
   "cell_type": "markdown",
   "metadata": {},
   "source": [
    "Initially we thought of getting the data from Foursquare, but it is found that the data for tips is premium category, so it has a limit to get the number of reviews.  \n",
    "\n",
    "We have searched for different datasets for Indian context and found the data found a good one at https://www.kaggle.com/ranjitha1/hotel-reviews-city-chennai/version/2. This dataset is good for experimentation purpuse.\n",
    "\n",
    "We use this dataset and downloaded to 'chennai_reviews.csv' and we read data to dataframe\n"
   ]
  },
  {
   "cell_type": "code",
   "execution_count": 34,
   "metadata": {
    "scrolled": false
   },
   "outputs": [
    {
     "data": {
      "text/html": [
       "<div>\n",
       "<style scoped>\n",
       "    .dataframe tbody tr th:only-of-type {\n",
       "        vertical-align: middle;\n",
       "    }\n",
       "\n",
       "    .dataframe tbody tr th {\n",
       "        vertical-align: top;\n",
       "    }\n",
       "\n",
       "    .dataframe thead th {\n",
       "        text-align: right;\n",
       "    }\n",
       "</style>\n",
       "<table border=\"1\" class=\"dataframe\">\n",
       "  <thead>\n",
       "    <tr style=\"text-align: right;\">\n",
       "      <th></th>\n",
       "      <th>Hotel_name</th>\n",
       "      <th>Review_Title</th>\n",
       "      <th>Review_Text</th>\n",
       "      <th>Sentiment</th>\n",
       "      <th>Rating_Percentage</th>\n",
       "      <th>txt_length</th>\n",
       "    </tr>\n",
       "  </thead>\n",
       "  <tbody>\n",
       "    <tr>\n",
       "      <th>0</th>\n",
       "      <td>Accord Metropolitan</td>\n",
       "      <td>Excellent comfortableness during stay</td>\n",
       "      <td>Its really nice place to stay especially for b...</td>\n",
       "      <td>3</td>\n",
       "      <td>100</td>\n",
       "      <td>74</td>\n",
       "    </tr>\n",
       "    <tr>\n",
       "      <th>1</th>\n",
       "      <td>Accord Metropolitan</td>\n",
       "      <td>Not too comfortable</td>\n",
       "      <td>It seems that hotel does not check the basic a...</td>\n",
       "      <td>1</td>\n",
       "      <td>20</td>\n",
       "      <td>385</td>\n",
       "    </tr>\n",
       "    <tr>\n",
       "      <th>2</th>\n",
       "      <td>Accord Metropolitan</td>\n",
       "      <td>NaN</td>\n",
       "      <td>Worst hotel I have ever encountered. I will ne...</td>\n",
       "      <td>1</td>\n",
       "      <td>20</td>\n",
       "      <td>92</td>\n",
       "    </tr>\n",
       "  </tbody>\n",
       "</table>\n",
       "</div>"
      ],
      "text/plain": [
       "            Hotel_name                           Review_Title  \\\n",
       "0  Accord Metropolitan  Excellent comfortableness during stay   \n",
       "1  Accord Metropolitan                    Not too comfortable   \n",
       "2  Accord Metropolitan                                    NaN   \n",
       "\n",
       "                                         Review_Text Sentiment  \\\n",
       "0  Its really nice place to stay especially for b...         3   \n",
       "1  It seems that hotel does not check the basic a...         1   \n",
       "2  Worst hotel I have ever encountered. I will ne...         1   \n",
       "\n",
       "  Rating_Percentage  txt_length  \n",
       "0               100          74  \n",
       "1                20         385  \n",
       "2                20          92  "
      ]
     },
     "execution_count": 34,
     "metadata": {},
     "output_type": "execute_result"
    }
   ],
   "source": [
    "def len_x(x):\n",
    "    x = '' + str(x)\n",
    "    return len(x)\n",
    "    \n",
    "df_all = pd.read_csv('chennai_reviews.csv')\n",
    "df_all = df_all[['Hotel_name', 'Review_Title','Review_Text' ,'Sentiment','Rating_Percentage' ]]\n",
    "df_all['txt_length'] = df_all['Review_Text'].apply(len_x)\n",
    "df = df_all[df_all['Hotel_name'] == 'Accord Metropolitan']\n",
    "df.head(3)"
   ]
  },
  {
   "cell_type": "markdown",
   "metadata": {},
   "source": [
    "#### 1.1 EDA\n",
    "\n",
    "Let's explore the data. Put some visualizaiton to see the insights of the data"
   ]
  },
  {
   "cell_type": "code",
   "execution_count": 35,
   "metadata": {},
   "outputs": [],
   "source": [
    "import matplotlib.pyplot as plt\n",
    "import seaborn as sns\n",
    "sns.set_style('white')\n",
    "%matplotlib inline"
   ]
  },
  {
   "cell_type": "markdown",
   "metadata": {},
   "source": [
    "Use FacetGrid from the seaborn library to create histograms of text length based off of the  ratings."
   ]
  },
  {
   "cell_type": "code",
   "execution_count": 36,
   "metadata": {
    "scrolled": true
   },
   "outputs": [
    {
     "data": {
      "text/plain": [
       "<seaborn.axisgrid.FacetGrid at 0x23ccd9660f0>"
      ]
     },
     "execution_count": 36,
     "metadata": {},
     "output_type": "execute_result"
    },
    {
     "data": {
      "image/png": "[encoded data removed]",
      "text/plain": [
       "<Figure size 648x216 with 3 Axes>"
      ]
     },
     "metadata": {},
     "output_type": "display_data"
    }
   ],
   "source": [
    "g = sns.FacetGrid(df,col='Sentiment')\n",
    "g.map(plt.hist,'txt_length')"
   ]
  },
  {
   "cell_type": "markdown",
   "metadata": {},
   "source": [
    "Creating a boxplot of text length for rating"
   ]
  },
  {
   "cell_type": "code",
   "execution_count": 37,
   "metadata": {
    "scrolled": true
   },
   "outputs": [
    {
     "data": {
      "text/plain": [
       "<matplotlib.axes._subplots.AxesSubplot at 0x23cd1e80b38>"
      ]
     },
     "execution_count": 37,
     "metadata": {},
     "output_type": "execute_result"
    },
    {
     "data": {
      "image/png": "[encoded data removed]",
      "text/plain": [
       "<Figure size 432x288 with 1 Axes>"
      ]
     },
     "metadata": {},
     "output_type": "display_data"
    }
   ],
   "source": [
    "sns.boxplot(x='Rating_Percentage',y='txt_length',data=df,palette='rainbow')"
   ]
  },
  {
   "cell_type": "markdown",
   "metadata": {},
   "source": [
    "Now check the size of the text and analyse the mean, std and other statistical aspects of the text data"
   ]
  },
  {
   "cell_type": "code",
   "execution_count": 38,
   "metadata": {},
   "outputs": [
    {
     "data": {
      "text/html": [
       "<div>\n",
       "<style scoped>\n",
       "    .dataframe tbody tr th:only-of-type {\n",
       "        vertical-align: middle;\n",
       "    }\n",
       "\n",
       "    .dataframe tbody tr th {\n",
       "        vertical-align: top;\n",
       "    }\n",
       "\n",
       "    .dataframe thead th {\n",
       "        text-align: right;\n",
       "    }\n",
       "</style>\n",
       "<table border=\"1\" class=\"dataframe\">\n",
       "  <thead>\n",
       "    <tr style=\"text-align: right;\">\n",
       "      <th></th>\n",
       "      <th>txt_length</th>\n",
       "    </tr>\n",
       "  </thead>\n",
       "  <tbody>\n",
       "    <tr>\n",
       "      <th>count</th>\n",
       "      <td>124.000000</td>\n",
       "    </tr>\n",
       "    <tr>\n",
       "      <th>mean</th>\n",
       "      <td>193.258065</td>\n",
       "    </tr>\n",
       "    <tr>\n",
       "      <th>std</th>\n",
       "      <td>102.558480</td>\n",
       "    </tr>\n",
       "    <tr>\n",
       "      <th>min</th>\n",
       "      <td>22.000000</td>\n",
       "    </tr>\n",
       "    <tr>\n",
       "      <th>25%</th>\n",
       "      <td>80.000000</td>\n",
       "    </tr>\n",
       "    <tr>\n",
       "      <th>50%</th>\n",
       "      <td>214.000000</td>\n",
       "    </tr>\n",
       "    <tr>\n",
       "      <th>75%</th>\n",
       "      <td>266.000000</td>\n",
       "    </tr>\n",
       "    <tr>\n",
       "      <th>max</th>\n",
       "      <td>385.000000</td>\n",
       "    </tr>\n",
       "  </tbody>\n",
       "</table>\n",
       "</div>"
      ],
      "text/plain": [
       "       txt_length\n",
       "count  124.000000\n",
       "mean   193.258065\n",
       "std    102.558480\n",
       "min     22.000000\n",
       "25%     80.000000\n",
       "50%    214.000000\n",
       "75%    266.000000\n",
       "max    385.000000"
      ]
     },
     "execution_count": 38,
     "metadata": {},
     "output_type": "execute_result"
    }
   ],
   "source": [
    "df.describe()"
   ]
  },
  {
   "cell_type": "markdown",
   "metadata": {},
   "source": [
    "Creating a countplot of the number of occurrences for each type of star rating."
   ]
  },
  {
   "cell_type": "code",
   "execution_count": 39,
   "metadata": {},
   "outputs": [
    {
     "data": {
      "text/plain": [
       "<matplotlib.axes._subplots.AxesSubplot at 0x23cd1fe6828>"
      ]
     },
     "execution_count": 39,
     "metadata": {},
     "output_type": "execute_result"
    },
    {
     "data": {
      "image/png": "[encoded data removed]",
      "text/plain": [
       "<Figure size 432x288 with 1 Axes>"
      ]
     },
     "metadata": {},
     "output_type": "display_data"
    }
   ],
   "source": [
    "sns.countplot(x='Sentiment',data=df,palette='rainbow')"
   ]
  },
  {
   "cell_type": "markdown",
   "metadata": {},
   "source": [
    "## 2. Sentiments  Analysis - Classification "
   ]
  },
  {
   "cell_type": "markdown",
   "metadata": {},
   "source": [
    "#### 2.1 First we need to do the clean-up \n",
    "Clean up activities include processing stop words, removing repeating words and further cleanup of punctuations and meaningless words"
   ]
  },
  {
   "cell_type": "code",
   "execution_count": null,
   "metadata": {
    "scrolled": true
   },
   "outputs": [],
   "source": [
    "# Importing and downloading the stop words\n",
    "from nltk.corpus import stopwords\n",
    "import nltk\n",
    "nltk.download('stopwords')"
   ]
  },
  {
   "cell_type": "markdown",
   "metadata": {},
   "source": [
    "#### 2.2 Check the stop words processing\n",
    "Make sure that the stop words are working and prepare the methods for processing the stop words and punctuations. We'll also remove very common words, ('the', 'a', etc..)."
   ]
  },
  {
   "cell_type": "code",
   "execution_count": 41,
   "metadata": {},
   "outputs": [
    {
     "data": {
      "text/plain": [
       "['i', 'me', 'my', 'myself', 'we', 'our', 'ours', 'ourselves', 'you', \"you're\"]"
      ]
     },
     "execution_count": 41,
     "metadata": {},
     "output_type": "execute_result"
    }
   ],
   "source": [
    "stopwords.words('english')[0:10] # Show some stop words"
   ]
  },
  {
   "cell_type": "code",
   "execution_count": 42,
   "metadata": {},
   "outputs": [],
   "source": [
    "from sklearn.feature_extraction.text import CountVectorizer"
   ]
  },
  {
   "cell_type": "markdown",
   "metadata": {},
   "source": [
    "#### 2.3 Text Pre-processing"
   ]
  },
  {
   "cell_type": "markdown",
   "metadata": {},
   "source": [
    "The classification algorithms need numerical feature vector in order to perform the classification task.\n",
    "\n",
    "In this section we'll convert the raw messages (sequence of characters) into vectors (sequences of numbers).\n",
    "\n",
    "Let's create a function that will process the string in the message column, then we can just use apply() in pandas and then remove punctuation. \n"
   ]
  },
  {
   "cell_type": "code",
   "execution_count": 45,
   "metadata": {},
   "outputs": [
    {
     "name": "stdout",
     "output_type": "stream",
     "text": [
      "329\n"
     ]
    }
   ],
   "source": [
    "\n",
    "import string\n",
    "def clean_up_text(mess):\n",
    "    \"\"\"\n",
    "    1. Remove punctuation\n",
    "    2. Remove stopwords\n",
    "    3. Returns a list of the cleaned text\n",
    "    \"\"\"\n",
    "    # Check characters to see if they are in punctuation\n",
    "    nopunc = [char for char in mess if char not in string.punctuation]\n",
    "\n",
    "    # Join the characters again to form the string.\n",
    "    nopunc = ''.join(nopunc)\n",
    "    \n",
    "    # Now just remove any stopwords\n",
    "    return [word for word in nopunc.split() if word.lower() not in stopwords.words('english')]\n",
    "\n"
   ]
  },
  {
   "cell_type": "markdown",
   "metadata": {},
   "source": [
    "Bag-of-Words (bw_trans) takes care of the words processing. It transforms the entire dataframe with a reduced memory space etc. "
   ]
  },
  {
   "cell_type": "markdown",
   "metadata": {},
   "source": [
    "#### 2.4 Text  Normalization¶"
   ]
  },
  {
   "cell_type": "markdown",
   "metadata": {},
   "source": [
    "Continue normalizing text. Such as Stemming or distinguishing by part of speech."
   ]
  },
  {
   "cell_type": "markdown",
   "metadata": {},
   "source": [
    "## 3 Vectorization"
   ]
  },
  {
   "cell_type": "markdown",
   "metadata": {},
   "source": [
    "Now we need to convert messages to vector. We convert each message, represented as a list of tokens \n",
    "\n",
    "#### 3.1 Following steps involved: \n",
    "* Frequency of word occurances \n",
    "* Weight of the counts\n",
    "* Normalize the vectors to unit length\n"
   ]
  },
  {
   "cell_type": "code",
   "execution_count": null,
   "metadata": {},
   "outputs": [],
   "source": [
    "bw_trans = CountVectorizer(analyzer=clean_up_text).fit(df['Review_Text'])\n",
    "\n",
    "# Print total number of vocab words\n",
    "print(len(bw_trans.vocabulary_))"
   ]
  },
  {
   "cell_type": "markdown",
   "metadata": {},
   "source": [
    "#### 3.2 Check vectorizaiton from sample data \n",
    "Now check the result of the vectorization from our data sample"
   ]
  },
  {
   "cell_type": "code",
   "execution_count": 52,
   "metadata": {},
   "outputs": [
    {
     "name": "stdout",
     "output_type": "stream",
     "text": [
      "Had a good time in this hotel and the staff Kumar,aishwarya, and the house keeping guy not sure what his name these people make my stay pleasant and happy for 5 days. For sure I will be back to this place to stay in chennai.Good job guys\n"
     ]
    }
   ],
   "source": [
    "sample_txt = df['Review_Text'][3]\n",
    "print(sample_txt)"
   ]
  },
  {
   "cell_type": "code",
   "execution_count": 62,
   "metadata": {
    "scrolled": false
   },
   "outputs": [
    {
     "name": "stdout",
     "output_type": "stream",
     "text": [
      "  (0, 3)\t1\n",
      "  (0, 31)\t1\n",
      "  (0, 76)\t1\n",
      "  (0, 104)\t1\n",
      "  (0, 121)\t1\n",
      "  (0, 158)\t1\n",
      "  (0, 161)\t1\n",
      "  (0, 162)\t1\n",
      "  (0, 164)\t1\n",
      "  (0, 169)\t1\n",
      "  (0, 171)\t1\n",
      "  (0, 180)\t1\n",
      "  (0, 181)\t1\n",
      "  (0, 197)\t1\n",
      "  (0, 206)\t1\n",
      "  (0, 229)\t1\n",
      "  (0, 233)\t1\n",
      "  (0, 234)\t1\n",
      "  (0, 283)\t1\n",
      "  (0, 287)\t2\n",
      "  (0, 290)\t2\n",
      "  (0, 301)\t1\n",
      "(1, 329)\n"
     ]
    }
   ],
   "source": [
    "bw11 = bw_trans.transform([sample_txt])\n",
    "print(bw11)\n",
    "print(bw11.shape)"
   ]
  },
  {
   "cell_type": "code",
   "execution_count": 56,
   "metadata": {},
   "outputs": [
    {
     "name": "stdout",
     "output_type": "stream",
     "text": [
      "good\n",
      "needs\n"
     ]
    }
   ],
   "source": [
    "print(bw_trans.get_feature_names()[158])\n",
    "print(bw_trans.get_feature_names()[209])"
   ]
  },
  {
   "cell_type": "code",
   "execution_count": 63,
   "metadata": {},
   "outputs": [],
   "source": [
    "messages_bw = bw_trans.transform(df['Review_Text'])"
   ]
  },
  {
   "cell_type": "code",
   "execution_count": 65,
   "metadata": {},
   "outputs": [
    {
     "name": "stdout",
     "output_type": "stream",
     "text": [
      "Shape, Sparse Matrix:  (124, 329)\n",
      "Amount, Non-Zero occurences:  2104\n"
     ]
    }
   ],
   "source": [
    "print('Shape, Sparse Matrix: ', messages_bw.shape)\n",
    "print('Amount, Non-Zero occurences: ', messages_bw.nnz)"
   ]
  },
  {
   "cell_type": "code",
   "execution_count": 66,
   "metadata": {},
   "outputs": [
    {
     "name": "stdout",
     "output_type": "stream",
     "text": [
      "sparsity: 5\n"
     ]
    }
   ],
   "source": [
    "sparsity = (100.0 * messages_bw.nnz / (messages_bw.shape[0] * messages_bw.shape[1]))\n",
    "print('sparsity: {}'.format(round(sparsity)))"
   ]
  },
  {
   "cell_type": "markdown",
   "metadata": {},
   "source": [
    "## 4. term frequency-inverse document frequency (TF-IDF)\n",
    "\n",
    "TF-IDF is a weight often used in information retrieval and text mining. This weight is a statistical measure used to evaluate how important a word is to a document in a collection or corpus."
   ]
  },
  {
   "cell_type": "markdown",
   "metadata": {},
   "source": [
    "#### 4.1 TFIDF implementation \n",
    "Now use the SciKit learn to implement the TF-IDF logic in python"
   ]
  },
  {
   "cell_type": "code",
   "execution_count": 69,
   "metadata": {
    "scrolled": false
   },
   "outputs": [
    {
     "name": "stdout",
     "output_type": "stream",
     "text": [
      "  (0, 301)\t0.17632072409454216\n",
      "  (0, 290)\t0.4558946864168551\n",
      "  (0, 287)\t0.19291671702975685\n",
      "  (0, 283)\t0.10923052725386026\n",
      "  (0, 234)\t0.15040922205989907\n",
      "  (0, 233)\t0.15040922205989907\n",
      "  (0, 229)\t0.22794734320842755\n",
      "  (0, 206)\t0.22794734320842755\n",
      "  (0, 197)\t0.19618902317255257\n",
      "  (0, 181)\t0.19618902317255257\n",
      "  (0, 180)\t0.22794734320842755\n",
      "  (0, 171)\t0.19618902317255257\n",
      "  (0, 169)\t0.07747220721798531\n",
      "  (0, 164)\t0.22794734320842755\n",
      "  (0, 162)\t0.22794734320842755\n",
      "  (0, 161)\t0.22794734320842755\n",
      "  (0, 158)\t0.08936222817584988\n",
      "  (0, 121)\t0.17632072409454216\n",
      "  (0, 104)\t0.22794734320842755\n",
      "  (0, 76)\t0.22794734320842755\n",
      "  (0, 31)\t0.22794734320842755\n",
      "  (0, 3)\t0.19618902317255257\n"
     ]
    }
   ],
   "source": [
    "#SciKit Learn: TFIDF implementation \n",
    "from sklearn.feature_extraction.text import TfidfTransformer\n",
    "\n",
    "tfidf_trans = TfidfTransformer().fit(messages_bw)\n",
    "tfidf11 = tfidf_trans.transform(bw11)\n",
    "print(tfidf11)"
   ]
  },
  {
   "cell_type": "markdown",
   "metadata": {},
   "source": [
    "#### 4.2 TFIDF implementation \n",
    "Check the vocabulary and see the importance of words"
   ]
  },
  {
   "cell_type": "code",
   "execution_count": 71,
   "metadata": {
    "scrolled": true
   },
   "outputs": [
    {
     "data": {
      "text/plain": [
       "{'really': 251,\n",
       " 'nice': 212,\n",
       " 'place': 233,\n",
       " 'stay': 287,\n",
       " 'especially': 135,\n",
       " 'business': 88,\n",
       " 'tourist': 307,\n",
       " 'purpose': 247,\n",
       " 'seems': 268,\n",
       " 'hotel': 169,\n",
       " 'check': 100,\n",
       " 'basic': 78,\n",
       " 'amenities': 72,\n",
       " 'room': 264,\n",
       " 'handing': 163,\n",
       " 'traveller': 310,\n",
       " 'phone': 231,\n",
       " 'working': 325,\n",
       " 'created': 117,\n",
       " 'problem': 242,\n",
       " 'hectic': 166,\n",
       " 'day': 120,\n",
       " 'travel': 309,\n",
       " 'would': 327,\n",
       " 'like': 186,\n",
       " 'relax': 255,\n",
       " 'work': 324,\n",
       " 'pace': 226,\n",
       " 'sent': 269,\n",
       " 'technician': 294,\n",
       " 'kept': 182,\n",
       " 'looking': 191,\n",
       " 'fix': 149,\n",
       " 'hour': 170,\n",
       " 'get': 157,\n",
       " 'changed': 98,\n",
       " 'Worst': 64,\n",
       " 'ever': 137,\n",
       " 'encountered': 133,\n",
       " 'never': 211,\n",
       " 'think': 299,\n",
       " 'thiis': 296,\n",
       " 'future': 156,\n",
       " 'good': 158,\n",
       " 'time': 301,\n",
       " 'staff': 283,\n",
       " 'Kumaraishwarya': 31,\n",
       " 'house': 171,\n",
       " 'keeping': 181,\n",
       " 'guy': 161,\n",
       " 'sure': 290,\n",
       " 'name': 206,\n",
       " 'people': 229,\n",
       " 'make': 197,\n",
       " 'pleasant': 234,\n",
       " 'happy': 164,\n",
       " '5': 3,\n",
       " 'days': 121,\n",
       " 'back': 76,\n",
       " 'chennaiGood': 104,\n",
       " 'job': 180,\n",
       " 'guys': 162,\n",
       " 'Veg': 60,\n",
       " 'food': 150,\n",
       " 'non': 213,\n",
       " 'veg': 317,\n",
       " 'breakfast': 85,\n",
       " 'needs': 209,\n",
       " 'improvement': 174,\n",
       " 'Great': 25,\n",
       " 'welcoming': 323,\n",
       " 'Helpful': 26,\n",
       " 'Always': 5,\n",
       " 'mostly': 204,\n",
       " 'clean': 108,\n",
       " 'bathrooms': 80,\n",
       " 'need': 207,\n",
       " 'care': 92,\n",
       " 'first': 148,\n",
       " 'bathroom': 79,\n",
       " 'hot': 168,\n",
       " 'water': 322,\n",
       " 'second': 267,\n",
       " 'one': 220,\n",
       " 'took': 305,\n",
       " 'long': 190,\n",
       " 'drain': 127,\n",
       " 'tub': 312,\n",
       " 'Plus': 44,\n",
       " 'painting': 227,\n",
       " 'caulking': 94,\n",
       " 'peeling': 228,\n",
       " 'wall': 321,\n",
       " 'plus': 236,\n",
       " 'point': 237,\n",
       " 'great': 159,\n",
       " 'restaurants': 263,\n",
       " 'excellent': 139,\n",
       " 'customer': 119,\n",
       " 'service': 270,\n",
       " 'Awesome': 6,\n",
       " 'needed': 208,\n",
       " 'luxury': 195,\n",
       " 'friendly': 154,\n",
       " 'Comfortable': 14,\n",
       " 'polite': 238,\n",
       " 'brick': 86,\n",
       " 'oven': 223,\n",
       " 'chefs': 103,\n",
       " 'extremely': 141,\n",
       " 'helpful': 167,\n",
       " 'meals': 199,\n",
       " 'advertised': 69,\n",
       " '2': 1,\n",
       " 'comfortable': 111,\n",
       " 'recommend': 253,\n",
       " 'others': 222,\n",
       " 'Overall': 41,\n",
       " 'restaurant': 262,\n",
       " 'best': 81,\n",
       " 'experience': 140,\n",
       " 'decent': 123,\n",
       " 'price': 240,\n",
       " 'trip': 311,\n",
       " 'two': 313,\n",
       " 'found': 151,\n",
       " 'perfect': 230,\n",
       " 'cleanliness': 109,\n",
       " 'location': 189,\n",
       " 'also': 71,\n",
       " 'value': 315,\n",
       " 'money': 203,\n",
       " 'Suggest': 55,\n",
       " 'offer': 216,\n",
       " 'least': 184,\n",
       " 'included': 175,\n",
       " 'case': 93,\n",
       " 'single': 275,\n",
       " 'occupancy': 215,\n",
       " 'double': 126,\n",
       " 'deal': 122,\n",
       " 'Location': 33,\n",
       " 'Nagar': 36,\n",
       " 'close': 110,\n",
       " 'shopping': 272,\n",
       " 'hub': 172,\n",
       " 'cult': 118,\n",
       " 'South': 52,\n",
       " 'Indian': 28,\n",
       " 'Saravana': 48,\n",
       " 'Murugan': 35,\n",
       " 'Room': 47,\n",
       " 'Spacious': 53,\n",
       " 'Welllit': 62,\n",
       " 'rooms': 265,\n",
       " 'Staff': 54,\n",
       " 'Courteous': 16,\n",
       " 'simple': 273,\n",
       " 'mins': 201,\n",
       " 'checkin': 101,\n",
       " 'process': 243,\n",
       " 'Nice': 38,\n",
       " 'Also': 4,\n",
       " 'complimentary': 112,\n",
       " 'pick': 232,\n",
       " 'drop': 128,\n",
       " 'airport': 70,\n",
       " 'things': 298,\n",
       " 'add': 68,\n",
       " 'certainly': 96,\n",
       " 'increased': 176,\n",
       " 'improve': 173,\n",
       " 'reception': 252,\n",
       " 'Otherwise': 40,\n",
       " 'nothing': 214,\n",
       " 'bad': 77,\n",
       " 'Breakfast': 8,\n",
       " 'super': 289,\n",
       " 'courteous': 116,\n",
       " 'enjoyed': 134,\n",
       " 'Cannot': 10,\n",
       " 'negative': 210,\n",
       " 'Right': 46,\n",
       " 'smooth': 277,\n",
       " 'remember': 256,\n",
       " 'One': 39,\n",
       " 'residents': 259,\n",
       " 'Zodiac': 65,\n",
       " 'made': 196,\n",
       " 'better': 82,\n",
       " 'Located': 32,\n",
       " 'heart': 165,\n",
       " 'district': 125,\n",
       " 'easily': 130,\n",
       " 'accessible': 66,\n",
       " 'modes': 202,\n",
       " 'difficulty': 124,\n",
       " 'understanding': 314,\n",
       " 'English': 18,\n",
       " 'rest': 261,\n",
       " 'Table': 56,\n",
       " 'chair': 97,\n",
       " 'PC': 42,\n",
       " 'lan': 183,\n",
       " 'cable': 90,\n",
       " 'much': 205,\n",
       " 'dust': 129,\n",
       " 'WiFi': 63,\n",
       " 'Internet': 29,\n",
       " 'speed': 279,\n",
       " 'Bar': 7,\n",
       " 'waiter': 320,\n",
       " 'serving': 271,\n",
       " 'Serving': 50,\n",
       " 'tandoori': 292,\n",
       " 'chicken': 105,\n",
       " 'salty': 266,\n",
       " 'Good': 24,\n",
       " 'friend': 153,\n",
       " 'accord': 67,\n",
       " 'rated': 250,\n",
       " 'star': 285,\n",
       " 'Continue': 15,\n",
       " 'topper': 306,\n",
       " 'overall': 225,\n",
       " 'visited': 319,\n",
       " 'family': 145,\n",
       " 'appearance': 73,\n",
       " 'checkout': 102,\n",
       " 'spacious': 278,\n",
       " 'provided': 245,\n",
       " 'taking': 291,\n",
       " '4': 2,\n",
       " 'stars': 286,\n",
       " 'since': 274,\n",
       " 'small': 276,\n",
       " 'cant': 91,\n",
       " 'luggages': 194,\n",
       " 'suitable': 288,\n",
       " 'Japanese': 30,\n",
       " 'Food': 23,\n",
       " 'quantity': 249,\n",
       " 'worth': 326,\n",
       " 'Neat': 37,\n",
       " 'etc': 136,\n",
       " 'Hotel': 27,\n",
       " 'centrally': 95,\n",
       " 'located': 188,\n",
       " 'area': 74,\n",
       " 'thing': 297,\n",
       " 'lot': 192,\n",
       " 'options': 221,\n",
       " 'eat': 132,\n",
       " 'taste': 293,\n",
       " 'quality': 248,\n",
       " 'could': 115,\n",
       " 'Well': 61,\n",
       " 'built': 87,\n",
       " 'level': 185,\n",
       " '100': 0,\n",
       " 'youll': 328,\n",
       " 'find': 146,\n",
       " 'spent': 280,\n",
       " 'Thanks': 57,\n",
       " 'official': 218,\n",
       " 'facility': 143,\n",
       " 'Everything': 19,\n",
       " 'fine': 147,\n",
       " 'facilities': 142,\n",
       " 'Service': 49,\n",
       " 'spread': 282,\n",
       " 'Value': 59,\n",
       " 'Money': 34,\n",
       " 'Situated': 51,\n",
       " 'prime': 241,\n",
       " 'easy': 131,\n",
       " 'connectivity': 114,\n",
       " 'locate': 187,\n",
       " 'families': 144,\n",
       " 'groups': 160,\n",
       " 'Business': 9,\n",
       " 'city': 107,\n",
       " 'offers': 217,\n",
       " 'book': 84,\n",
       " 'times': 302,\n",
       " 'Chennai': 11,\n",
       " 'everything': 138,\n",
       " 'awesome': 75,\n",
       " 'many': 198,\n",
       " 'spoilt': 281,\n",
       " 'choice': 106,\n",
       " 'lounge': 193,\n",
       " 'terrace': 295,\n",
       " 'view': 318,\n",
       " 'Dont': 17,\n",
       " 'rent': 257,\n",
       " 'cab': 89,\n",
       " 'charge': 99,\n",
       " 'regular': 254,\n",
       " 'providers': 246,\n",
       " 'provide': 244,\n",
       " 'free': 152,\n",
       " 'internet': 179,\n",
       " 'connection': 113,\n",
       " 'ok': 219,\n",
       " 'Close': 13,\n",
       " 'Excellent': 20,\n",
       " 'staffvery': 284,\n",
       " 'friendlyhelpfulhowever': 155,\n",
       " 'timetaken': 303,\n",
       " 'resond': 260,\n",
       " 'poorbreakfast': 239,\n",
       " 'menu': 200,\n",
       " 'betterdaily': 83,\n",
       " 'toiletry': 304,\n",
       " 'towel': 308,\n",
       " 'replenishment': 258,\n",
       " 'insufficientbut': 178,\n",
       " 'overal': 224,\n",
       " 'Facilities': 21,\n",
       " 'Fantastic': 22,\n",
       " 'Professional': 45,\n",
       " 'Cleanliness': 12,\n",
       " 'Pleasant': 43,\n",
       " 'Theres': 58,\n",
       " 'three': 300,\n",
       " 'inside': 177,\n",
       " 'plenty': 235,\n",
       " 'variety': 316}"
      ]
     },
     "execution_count": 71,
     "metadata": {},
     "output_type": "execute_result"
    }
   ],
   "source": [
    "bw_trans.vocabulary_"
   ]
  },
  {
   "cell_type": "markdown",
   "metadata": {},
   "source": [
    "#### 4.3 TFIDF Check Scores \n",
    "Check the important of some random words words"
   ]
  },
  {
   "cell_type": "code",
   "execution_count": 72,
   "metadata": {
    "scrolled": true
   },
   "outputs": [
    {
     "name": "stdout",
     "output_type": "stream",
     "text": [
      "4.218875824868201\n",
      "3.2633643798407643\n"
     ]
    }
   ],
   "source": [
    "print(tfidf_trans.idf_[bw_trans.vocabulary_['polite']])\n",
    "print(tfidf_trans.idf_[bw_trans.vocabulary_['offer']])"
   ]
  },
  {
   "cell_type": "markdown",
   "metadata": {},
   "source": [
    "#### 4.4 TFIDF Transform\n",
    "Transform bag-of-words corpus into TF-IDF"
   ]
  },
  {
   "cell_type": "code",
   "execution_count": 80,
   "metadata": {},
   "outputs": [
    {
     "name": "stdout",
     "output_type": "stream",
     "text": [
      "(124, 329)\n"
     ]
    }
   ],
   "source": [
    "messages_tfidf = tfidf_trans.transform(messages_bw)\n",
    "print(messages_tfidf.shape)"
   ]
  },
  {
   "cell_type": "markdown",
   "metadata": {},
   "source": [
    "## 5 Training Model for Navie Bayes\n",
    "#### 5.1 Selecting the classification scheme and training\n",
    "We'll be using scikit-learn Naive Bayes classifier  in our scenario. The data is fit into the MultinomialNB class object"
   ]
  },
  {
   "cell_type": "code",
   "execution_count": 81,
   "metadata": {},
   "outputs": [],
   "source": [
    "from sklearn.naive_bayes import MultinomialNB\n",
    "nb_model = MultinomialNB().fit(messages_tfidf, df['Sentiment'])"
   ]
  },
  {
   "cell_type": "markdown",
   "metadata": {},
   "source": [
    "#### 5.2 Try some prediction using sample data"
   ]
  },
  {
   "cell_type": "markdown",
   "metadata": {},
   "source": [
    "quick check for prediction using some sample and found a good match"
   ]
  },
  {
   "cell_type": "code",
   "execution_count": 82,
   "metadata": {
    "scrolled": true
   },
   "outputs": [
    {
     "name": "stdout",
     "output_type": "stream",
     "text": [
      "predicted: 3\n",
      "expected: 3\n"
     ]
    }
   ],
   "source": [
    "print('predicted:', nb_model.predict(tfidf11)[0])\n",
    "print('expected:', df.Sentiment[3])"
   ]
  },
  {
   "cell_type": "markdown",
   "metadata": {},
   "source": [
    "#### 5.3 Check the predicted values\n",
    "Now have a quick check on the predicted values"
   ]
  },
  {
   "cell_type": "code",
   "execution_count": 85,
   "metadata": {},
   "outputs": [
    {
     "name": "stdout",
     "output_type": "stream",
     "text": [
      "['3' '1' '1' '3' '3' '3' '3' '3' '3' '3' '3' '3' '3' '3' '3' '3' '2' '3'\n",
      " '3' '3' '3' '3' '3' '3' '3' '3' '3' '3' '3' '3' '3' '3' '1' '1' '3' '3'\n",
      " '3' '3' '3' '3' '3' '3' '3' '3' '3' '3' '3' '2' '3' '3' '3' '3' '3' '3'\n",
      " '3' '3' '3' '3' '3' '3' '3' '3' '3' '1' '1' '3' '3' '3' '3' '3' '3' '3'\n",
      " '3' '3' '3' '3' '3' '3' '2' '3' '3' '3' '3' '3' '3' '3' '3' '3' '3' '3'\n",
      " '3' '3' '3' '3' '1' '1' '3' '3' '3' '3' '3' '3' '3' '3' '3' '3' '3' '3'\n",
      " '3' '2' '3' '3' '3' '3' '3' '3' '3' '3' '3' '3' '3' '3' '3' '3']\n"
     ]
    }
   ],
   "source": [
    "all_predictions = nb_model.predict(messages_tfidf)\n",
    "print(all_predictions)"
   ]
  },
  {
   "cell_type": "markdown",
   "metadata": {},
   "source": [
    "\n",
    "## 6: Text Analytics Model Evaluation\n",
    "\n",
    "#### 6.1 Check the accuracy using the confusion matrix\n",
    "Get the confusion matrix. As there are three values in the set, it is found all the values are correctly predicted without any false positives"
   ]
  },
  {
   "cell_type": "code",
   "execution_count": 86,
   "metadata": {},
   "outputs": [
    {
     "name": "stdout",
     "output_type": "stream",
     "text": [
      "[[  8   0   0]\n",
      " [  0   4   0]\n",
      " [  0   0 112]]\n"
     ]
    }
   ],
   "source": [
    "from sklearn.metrics import confusion_matrix\n",
    "print(confusion_matrix(df['Sentiment'],all_predictions))"
   ]
  },
  {
   "cell_type": "code",
   "execution_count": 87,
   "metadata": {
    "scrolled": true
   },
   "outputs": [
    {
     "name": "stdout",
     "output_type": "stream",
     "text": [
      "             precision    recall  f1-score   support\n",
      "\n",
      "          1       1.00      1.00      1.00         8\n",
      "          2       1.00      1.00      1.00         4\n",
      "          3       1.00      1.00      1.00       112\n",
      "\n",
      "avg / total       1.00      1.00      1.00       124\n",
      "\n"
     ]
    }
   ],
   "source": [
    "from sklearn.metrics import classification_report\n",
    "print (classification_report(df['Sentiment'], all_predictions))"
   ]
  },
  {
   "cell_type": "markdown",
   "metadata": {},
   "source": [
    "## 7. Train Test Split \n",
    "Train Test Split of original data for actual training of model\n",
    "\n",
    "#### 7.1  Split Data\n",
    "The test size is 20% of the  dataset and the training is the remining. "
   ]
  },
  {
   "cell_type": "code",
   "execution_count": 90,
   "metadata": {},
   "outputs": [
    {
     "name": "stdout",
     "output_type": "stream",
     "text": [
      "99 25 124\n"
     ]
    }
   ],
   "source": [
    "from sklearn.model_selection import train_test_split\n",
    "\n",
    "txt_train, txt_test, senti_train, senti_test = \\\n",
    "train_test_split(df['Review_Text'], df['Sentiment'], test_size=0.2)\n",
    "\n",
    "print(len(txt_train), len(txt_test), len(senti_train) + len(senti_test))"
   ]
  },
  {
   "cell_type": "markdown",
   "metadata": {},
   "source": [
    "#### 7.1  Creating a Data Pipeline\n",
    "\n",
    "We use SciKit Learn's pipeline capabilities to store a pipeline of workflow. This will allow us to set up all the transformations that we will do to the data for future use."
   ]
  },
  {
   "cell_type": "code",
   "execution_count": 92,
   "metadata": {},
   "outputs": [],
   "source": [
    "from sklearn.pipeline import Pipeline\n",
    "\n",
    "pipeline = Pipeline([\n",
    "    ('bow', CountVectorizer(analyzer=clean_up_text)),  # strings to token integer counts\n",
    "    ('tfidf', TfidfTransformer()),  # integer counts to weighted TF-IDF scores\n",
    "    ('classifier', MultinomialNB()),  # train on TF-IDF vectors w/ Naive Bayes classifier\n",
    "])"
   ]
  },
  {
   "cell_type": "markdown",
   "metadata": {},
   "source": [
    "pass message text data and the pipeline will pre-process it"
   ]
  },
  {
   "cell_type": "code",
   "execution_count": 93,
   "metadata": {},
   "outputs": [
    {
     "data": {
      "text/plain": [
       "Pipeline(memory=None,\n",
       "     steps=[('bow', CountVectorizer(analyzer=<function clean_up_text at 0x0000023CD1FA9BF8>,\n",
       "        binary=False, decode_error='strict', dtype=<class 'numpy.int64'>,\n",
       "        encoding='utf-8', input='content', lowercase=True, max_df=1.0,\n",
       "        max_features=None, min_df=1, ngram_range=(1, 1), preprocess...f=False, use_idf=True)), ('classifier', MultinomialNB(alpha=1.0, class_prior=None, fit_prior=True))])"
      ]
     },
     "execution_count": 93,
     "metadata": {},
     "output_type": "execute_result"
    }
   ],
   "source": [
    "pipeline.fit(txt_train,senti_train)"
   ]
  },
  {
   "cell_type": "markdown",
   "metadata": {},
   "source": [
    "Now test our model using the predict mechanism of sklearn "
   ]
  },
  {
   "cell_type": "code",
   "execution_count": 94,
   "metadata": {},
   "outputs": [],
   "source": [
    "predictions = pipeline.predict(txt_test)"
   ]
  },
  {
   "cell_type": "markdown",
   "metadata": {},
   "source": [
    "Show the model performance"
   ]
  },
  {
   "cell_type": "code",
   "execution_count": 297,
   "metadata": {},
   "outputs": [
    {
     "name": "stdout",
     "output_type": "stream",
     "text": [
      "             precision    recall  f1-score   support\n",
      "\n",
      "          2       1.00      1.00      1.00         1\n",
      "          3       1.00      1.00      1.00        24\n",
      "\n",
      "avg / total       1.00      1.00      1.00        25\n",
      "\n"
     ]
    }
   ],
   "source": [
    "print(classification_report(predictions,senti_test))"
   ]
  },
  {
   "cell_type": "code",
   "execution_count": 19,
   "metadata": {},
   "outputs": [],
   "source": [
    "import requests # library to handle requests"
   ]
  },
  {
   "cell_type": "markdown",
   "metadata": {},
   "source": [
    "## 8. Our Sentimental Model is ready "
   ]
  },
  {
   "cell_type": "markdown",
   "metadata": {},
   "source": [
    "Now in the following section, we will put the logic to use the model in the actual scenario of the hotel we are intereseted in. \n",
    "\n",
    "Now in the following sections, we will use the social networking data and utilize the fourquare APIs to get the sentiments of the users and see if they are in favor of the restaurant or not"
   ]
  },
  {
   "cell_type": "markdown",
   "metadata": {},
   "source": [
    "## 9. Gather details on the hotel data"
   ]
  },
  {
   "cell_type": "markdown",
   "metadata": {},
   "source": [
    "#### 9.1  Get the city data\n",
    "The following code is to get the list of cities to cross check. We are evaluating the cities of \"UAE\"\n",
    "\n",
    "Note: <i>As there is a pickle file already created, no need of executing the following again"
   ]
  },
  {
   "cell_type": "code",
   "execution_count": 334,
   "metadata": {},
   "outputs": [],
   "source": [
    "# \n",
    "if False:\n",
    "    results = requests.get(url).json()\n",
    "    df = pd.read_csv('https://datahub.io/core/world-cities/r/world-cities.csv')\n",
    "\n",
    "    df = df[df['country'] == 'United Arab Emirates']\n",
    "    df.rename(columns={'name': 'City', 'subcountry': 'Province'}, inplace=True)\n",
    "    df = df[['City','Province' ]]"
   ]
  },
  {
   "cell_type": "markdown",
   "metadata": {},
   "source": [
    "old code click : <b>here \n",
    "\n",
    "<!--  \n",
    "   This logic is made <i>depreciated</i> and modified to make it generic for multiple countries\n",
    "\n",
    "    url = \"https://en.wikipedia.org/wiki/List_of_cities_in_the_United_Arab_Emirates\"\n",
    "    df = pd.read_html(url)[0] #pd.read_html(url, skiprows=1)[0]\n",
    "    df.columns = df.iloc[0]\n",
    "    df = df.iloc[1:]\n",
    "    df.head()\n",
    "-->\n"
   ]
  },
  {
   "cell_type": "markdown",
   "metadata": {},
   "source": [
    "#### 9.2 Get the city cordniates\n",
    "The following code is to get the list of cordniates to cross check. We are evaluating the cities of \"UAE\"\n",
    "\n",
    "Note: <i>As there is a pickle file already created, no need of executing the following again\n",
    "    \n"
   ]
  },
  {
   "cell_type": "code",
   "execution_count": 74,
   "metadata": {},
   "outputs": [
    {
     "name": "stdout",
     "output_type": "stream",
     "text": [
      "55.55517000000003 25.564730000000054 Umm al Qaywayn\n",
      "55.94320000000005 25.78953000000007 Ras al-Khaimah\n",
      "56.34199000000007 25.331320000000062 Khawr Fakkān\n",
      "55.30884000000003 25.269510000000025 Dubai\n",
      "56.27708000000007 25.599260000000072 Dibba Al-Fujairah\n",
      "56.272740000000056 25.62107000000003 Dibba Al-Hisn\n",
      "55.392030000000034 25.352850000000046 Sharjah\n",
      "52.73056000000008 24.110280000000046 Ar Ruways\n",
      "56.34141000000005 25.11641000000003 Al Fujayrah\n",
      "55.68635000000006 24.207390000000032 Al Ain\n",
      "55.44213000000008 25.402310000000057 Ajman\n",
      "55.88157000000007 25.28812000000005 Adh Dhayd\n",
      "54.37173000000007 24.46918000000005 Abu Dhabi\n"
     ]
    }
   ],
   "source": [
    "# \n",
    "if False:\n",
    "    for index, row in df.iterrows():\n",
    "        # initialize your variable to None\n",
    "        lat_lng_coords = None\n",
    "\n",
    "        # loop until you get the coordinates\n",
    "        while(lat_lng_coords is None):\n",
    "          g = geocoder.arcgis('{},{}, United Arab Emirates'.format(row['City'], row['Province']))\n",
    "          lat_lng_coords = g.latlng\n",
    "\n",
    "        latitude = lat_lng_coords[0]\n",
    "        longitude = lat_lng_coords[1]\n",
    "        df.at[index, 'Latitude'] = latitude\n",
    "        df.at[index, 'Longitude'] = longitude\n",
    "        print(longitude,latitude, row['City'] )\n"
   ]
  },
  {
   "cell_type": "markdown",
   "metadata": {},
   "source": [
    "#### 9.3 Save City Data\n",
    "Save the data into picke file for future references"
   ]
  },
  {
   "cell_type": "code",
   "execution_count": 337,
   "metadata": {},
   "outputs": [],
   "source": [
    "df.to_pickle(\"./uae_city_details.pkl\")"
   ]
  },
  {
   "cell_type": "markdown",
   "metadata": {},
   "source": [
    "#### 9.4 Visualize the map data \n",
    "Visualize the map data using the folium map library. All the interested locations are marked as bubbles in the map "
   ]
  },
  {
   "cell_type": "code",
   "execution_count": 76,
   "metadata": {},
   "outputs": [
    {
     "data": {
      "text/html": [
       "<div style=\"width:100%;\"><div style=\"position:relative;width:100%;height:0;padding-bottom:60%;\"><iframe src=\"data:text/html;charset=utf-8;base64,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\" style=\"position:absolute;width:100%;height:100%;left:0;top:0;border:none !important;\" allowfullscreen webkitallowfullscreen mozallowfullscreen></iframe></div></div>"
      ],
      "text/plain": [
       "<folium.folium.Map at 0x2b21f3e9eb8>"
      ]
     },
     "execution_count": 76,
     "metadata": {},
     "output_type": "execute_result"
    }
   ],
   "source": [
    "#!conda install -c conda-forge folium=0.5.0 --yes\n",
    "import folium # plotting library\n",
    "\n",
    "map_address = folium.Map(location=[latitude, longitude], zoom_start=11)\n",
    "\n",
    "# add markers to map\n",
    "for lat, lng, label in zip(df['Latitude'], df['Longitude'], df['City']):\n",
    "    label = folium.Popup(label, parse_html=True)\n",
    "    folium.CircleMarker(\n",
    "        [lat, lng],\n",
    "        radius=5,\n",
    "        popup=label,\n",
    "        color='blue',\n",
    "        fill=True,\n",
    "        fill_color='#3186cc',\n",
    "        fill_opacity=0.7,\n",
    "        parse_html=False).add_to(map_address)  \n",
    "    \n",
    "map_address"
   ]
  },
  {
   "cell_type": "markdown",
   "metadata": {},
   "source": [
    "##  10 Foursquire API for live sentiments \n",
    "We will get the details of the cities and interested location based on the query that we set. and then based on the interested location, we will gather the sentiments of specific location. \n",
    "\n",
    "#### 10.1 Data Scarping to get the required data\n",
    "We first gather all the interesting venues with the <b>food</b> type. \n",
    "* We then save all the interesting places for analysis\n",
    "* then we select the requred interested venue for focused study\n",
    "\n",
    "**Now this section is the key and client id details requried for FourSqare API**"
   ]
  },
  {
   "cell_type": "code",
   "execution_count": 100,
   "metadata": {},
   "outputs": [
    {
     "name": "stdout",
     "output_type": "stream",
     "text": [
      "Your credentails:\n",
      "CLIENT_ID: 4CTAG1JEDGEOAVDVG4KSAXTXXTHSVHQ35QK2NQHSF4FXSAYK\n",
      "CLIENT_SECRET:V5ZEKZ52E2SH3CMKW3J5FW0PIJJO1KK1HTURDSR30QUJRM35\n"
     ]
    }
   ],
   "source": [
    "# Now this section is the key and client id details requried for FourSqare API\n",
    "CLIENT_ID = 'xxxx' # your Foursquare ID\n",
    "CLIENT_SECRET = 'xxxx' # your Foursquare Secret\n",
    "VERSION = '20180605' # Foursquare API version\n",
    "\n",
    "print('Your credentails:')\n",
    "print('CLIENT_ID: ' + CLIENT_ID)\n",
    "print('CLIENT_SECRET:' + CLIENT_SECRET)"
   ]
  },
  {
   "cell_type": "markdown",
   "metadata": {},
   "source": [
    "#### 10.2 Check the API working \n",
    "Test the API with a random venue "
   ]
  },
  {
   "cell_type": "code",
   "execution_count": 103,
   "metadata": {},
   "outputs": [],
   "source": [
    "LIMIT = 100 # limit of number of venues returned by Foursquare API\n",
    "radius = 500 # define radius"
   ]
  },
  {
   "cell_type": "code",
   "execution_count": null,
   "metadata": {
    "scrolled": true
   },
   "outputs": [],
   "source": [
    "city_latitude = df.loc[2, 'Latitude'] # neighborhood latitude value\n",
    "city_longitude = df.loc[2, 'Longitude'] # neighborhood longitude value\n",
    "#query = 'Hotel'\n",
    "# type your answer here\n",
    "\n",
    "\n",
    "#https://foursquare.com/explore?mode=url&near=Khobar%2C%20Saudi%20Arabia&nearGeoId=72057594038037259&q=starbucks\n",
    "\n",
    "url = 'https://api.foursquare.com/v2/venues/explore?&client_id={}&cat=food&client_secret={}&v={}&ll={},{}&radius={}&limit={}'.format(\n",
    "    CLIENT_ID, \n",
    "    CLIENT_SECRET, \n",
    "    VERSION, \n",
    "    city_latitude, \n",
    "    city_longitude, \n",
    "    radius, \n",
    "    LIMIT)\n"
   ]
  },
  {
   "cell_type": "markdown",
   "metadata": {},
   "source": [
    "#### 10.3 Check the URL\n",
    "Check the url and the syndax of the URL"
   ]
  },
  {
   "cell_type": "code",
   "execution_count": 135,
   "metadata": {},
   "outputs": [
    {
     "data": {
      "text/plain": [
       "'https://api.foursquare.com/v2/venues/explore?&client_id=4CTAG1JEDGEOAVDVG4KSAXTXXTHSVHQ35QK2NQHSF4FXSAYK&cat=food&client_secret=V5ZEKZ52E2SH3CMKW3J5FW0PIJJO1KK1HTURDSR30QUJRM35&v=20180605&ll=25.564730000000054,55.55517000000003&radius=500&limit=100'"
      ]
     },
     "execution_count": 135,
     "metadata": {},
     "output_type": "execute_result"
    }
   ],
   "source": [
    "url"
   ]
  },
  {
   "cell_type": "code",
   "execution_count": 136,
   "metadata": {},
   "outputs": [],
   "source": [
    "results = requests.get(url).json()"
   ]
  },
  {
   "cell_type": "markdown",
   "metadata": {},
   "source": [
    "#### 10.4 Check the JSON Output \n",
    "Check the output once the result is received. "
   ]
  },
  {
   "cell_type": "code",
   "execution_count": 138,
   "metadata": {
    "scrolled": true
   },
   "outputs": [
    {
     "data": {
      "text/plain": [
       "{'meta': {'code': 200, 'requestId': '5be2080e9fb6b71c74d3de8e'},\n",
       " 'response': {'headerLocation': 'Umm al-Quwain',\n",
       "  'headerFullLocation': 'Umm al-Quwain',\n",
       "  'headerLocationGranularity': 'city',\n",
       "  'totalResults': 4,\n",
       "  'suggestedBounds': {'ne': {'lat': 25.56923000450006,\n",
       "    'lng': 55.56014906080558},\n",
       "   'sw': {'lat': 25.56022999550005, 'lng': 55.550190939194486}},\n",
       "  'groups': [{'type': 'Recommended Places',\n",
       "    'name': 'recommended',\n",
       "    'items': [{'reasons': {'count': 0,\n",
       "       'items': [{'summary': 'This spot is popular',\n",
       "         'type': 'general',\n",
       "         'reasonName': 'globalInteractionReason'}]},\n",
       "      'venue': {'id': '4d3057caa62d721ec754997d',\n",
       "       'name': 'Lulu Center',\n",
       "       'location': {'address': 'King Faisal Rd',\n",
       "        'lat': 25.565576077656612,\n",
       "        'lng': 55.552780776667426,\n",
       "        'labeledLatLngs': [{'label': 'display',\n",
       "          'lat': 25.565576077656612,\n",
       "          'lng': 55.552780776667426}],\n",
       "        'distance': 257,\n",
       "        'cc': 'AE',\n",
       "        'city': 'أم القيوين',\n",
       "        'state': 'أم القيوين',\n",
       "        'country': 'الإمارات العربية المتحدة',\n",
       "        'formattedAddress': ['King Faisal Rd',\n",
       "         'أم القيوين',\n",
       "         'الإمارات العربية المتحدة']},\n",
       "       'categories': [{'id': '4bf58dd8d48988d1fd941735',\n",
       "         'name': 'Shopping Mall',\n",
       "         'pluralName': 'Shopping Malls',\n",
       "         'shortName': 'Mall',\n",
       "         'icon': {'prefix': 'https://ss3.4sqi.net/img/categories_v2/shops/mall_',\n",
       "          'suffix': '.png'},\n",
       "         'primary': True}],\n",
       "       'photos': {'count': 0, 'groups': []}},\n",
       "      'referralId': 'e-0-4d3057caa62d721ec754997d-0'},\n",
       "     {'reasons': {'count': 0,\n",
       "       'items': [{'summary': 'This spot is popular',\n",
       "         'type': 'general',\n",
       "         'reasonName': 'globalInteractionReason'}]},\n",
       "      'venue': {'id': '5748496b498e451d7575e43e',\n",
       "       'name': 'Afandim Restaurant',\n",
       "       'location': {'address': 'Al Nasr St',\n",
       "        'lat': 25.562439,\n",
       "        'lng': 55.5546,\n",
       "        'labeledLatLngs': [{'label': 'display',\n",
       "          'lat': 25.562439,\n",
       "          'lng': 55.5546}],\n",
       "        'distance': 261,\n",
       "        'cc': 'AE',\n",
       "        'city': 'أم القيوين',\n",
       "        'state': 'أم القيوين',\n",
       "        'country': 'الإمارات العربية المتحدة',\n",
       "        'formattedAddress': ['Al Nasr St',\n",
       "         'أم القيوين',\n",
       "         'الإمارات العربية المتحدة']},\n",
       "       'categories': [{'id': '4bf58dd8d48988d1cc941735',\n",
       "         'name': 'Steakhouse',\n",
       "         'pluralName': 'Steakhouses',\n",
       "         'shortName': 'Steakhouse',\n",
       "         'icon': {'prefix': 'https://ss3.4sqi.net/img/categories_v2/food/steakhouse_',\n",
       "          'suffix': '.png'},\n",
       "         'primary': True}],\n",
       "       'photos': {'count': 0, 'groups': []}},\n",
       "      'referralId': 'e-0-5748496b498e451d7575e43e-1'},\n",
       "     {'reasons': {'count': 0,\n",
       "       'items': [{'summary': 'This spot is popular',\n",
       "         'type': 'general',\n",
       "         'reasonName': 'globalInteractionReason'}]},\n",
       "      'venue': {'id': '5b40daa467f62b002cceed2c',\n",
       "       'name': 'China Mall Umm Al Quwain',\n",
       "       'location': {'lat': 25.561664,\n",
       "        'lng': 55.553554,\n",
       "        'labeledLatLngs': [{'label': 'display',\n",
       "          'lat': 25.561664,\n",
       "          'lng': 55.553554}],\n",
       "        'distance': 377,\n",
       "        'cc': 'AE',\n",
       "        'city': 'أم القيوين',\n",
       "        'state': 'أم القيوين',\n",
       "        'country': 'الإمارات العربية المتحدة',\n",
       "        'formattedAddress': ['أم القيوين', 'الإمارات العربية المتحدة']},\n",
       "       'categories': [{'id': '4bf58dd8d48988d1fd941735',\n",
       "         'name': 'Shopping Mall',\n",
       "         'pluralName': 'Shopping Malls',\n",
       "         'shortName': 'Mall',\n",
       "         'icon': {'prefix': 'https://ss3.4sqi.net/img/categories_v2/shops/mall_',\n",
       "          'suffix': '.png'},\n",
       "         'primary': True}],\n",
       "       'photos': {'count': 0, 'groups': []}},\n",
       "      'referralId': 'e-0-5b40daa467f62b002cceed2c-2'},\n",
       "     {'reasons': {'count': 0,\n",
       "       'items': [{'summary': 'This spot is popular',\n",
       "         'type': 'general',\n",
       "         'reasonName': 'globalInteractionReason'}]},\n",
       "      'venue': {'id': '53667749498e51c1bfe0913d',\n",
       "       'name': 'Cafe Sham',\n",
       "       'location': {'lat': 25.563406664042517,\n",
       "        'lng': 55.551681582341395,\n",
       "        'labeledLatLngs': [{'label': 'display',\n",
       "          'lat': 25.563406664042517,\n",
       "          'lng': 55.551681582341395}],\n",
       "        'distance': 380,\n",
       "        'cc': 'AE',\n",
       "        'country': 'الإمارات العربية المتحدة',\n",
       "        'formattedAddress': ['الإمارات العربية المتحدة']},\n",
       "       'categories': [{'id': '4bf58dd8d48988d1e0931735',\n",
       "         'name': 'Coffee Shop',\n",
       "         'pluralName': 'Coffee Shops',\n",
       "         'shortName': 'Coffee Shop',\n",
       "         'icon': {'prefix': 'https://ss3.4sqi.net/img/categories_v2/food/coffeeshop_',\n",
       "          'suffix': '.png'},\n",
       "         'primary': True}],\n",
       "       'photos': {'count': 0, 'groups': []}},\n",
       "      'referralId': 'e-0-53667749498e51c1bfe0913d-3'}]}]}}"
      ]
     },
     "execution_count": 138,
     "metadata": {},
     "output_type": "execute_result"
    }
   ],
   "source": [
    "results"
   ]
  },
  {
   "cell_type": "markdown",
   "metadata": {},
   "source": [
    "#### 10.5 Collect information for all the interested venues \n",
    "The information about the venues are gathered for further analysis"
   ]
  },
  {
   "cell_type": "markdown",
   "metadata": {},
   "source": [
    "We make a method and then use the method to be passed into the API call repeatedly"
   ]
  },
  {
   "cell_type": "code",
   "execution_count": 139,
   "metadata": {},
   "outputs": [],
   "source": [
    "# function that extracts the category of the venue\n",
    "def get_category_type(row):\n",
    "    try:\n",
    "        categories_list = row['categories']\n",
    "    except:\n",
    "        categories_list = row['venue.categories']\n",
    "        \n",
    "    if len(categories_list) == 0:\n",
    "        return None\n",
    "    else:\n",
    "        return categories_list[0]['name']"
   ]
  },
  {
   "cell_type": "code",
   "execution_count": 140,
   "metadata": {},
   "outputs": [
    {
     "data": {
      "text/plain": [
       "(4, 5)"
      ]
     },
     "execution_count": 140,
     "metadata": {},
     "output_type": "execute_result"
    }
   ],
   "source": [
    "from pandas.io.json import json_normalize # tranform JSON file into a pandas dataframe\n",
    "if False:\n",
    "    venues = results['response']['groups'][0]['items']\n",
    "\n",
    "    nearby_venues = json_normalize(venues) # flatten JSON\n",
    "\n",
    "    # filter columns\n",
    "    filtered_columns = ['venue.name', 'venue.id', 'venue.categories', 'venue.location.lat', 'venue.location.lng']\n",
    "    nearby_venues =nearby_venues.loc[:, filtered_columns]\n",
    "\n",
    "    # filter the category for each row\n",
    "    nearby_venues['venue.categories'] = nearby_venues.apply(get_category_type, axis=1)\n",
    "\n",
    "    # clean columns\n",
    "    nearby_venues.columns = [col.split(\".\")[-1] for col in nearby_venues.columns]\n",
    "\n",
    "    nearby_venues.shape"
   ]
  },
  {
   "cell_type": "markdown",
   "metadata": {},
   "source": [
    "Method to gather the venues iteratively"
   ]
  },
  {
   "cell_type": "code",
   "execution_count": 141,
   "metadata": {},
   "outputs": [],
   "source": [
    "def getNearbyVenues(names, latitudes, longitudes, radius=500):\n",
    "    \n",
    "    venues_list=[]\n",
    "    for name, lat, lng in zip(names, latitudes, longitudes):\n",
    "        print(name)\n",
    "            \n",
    "        # create the API request URL\n",
    "        url = 'https://api.foursquare.com/v2/venues/explore?&client_id={}&cat=food&client_secret={}&v={}&ll={},{}&radius={}&limit={}&q={}'.format(\n",
    "            CLIENT_ID, \n",
    "            CLIENT_SECRET, \n",
    "            VERSION, \n",
    "            city_latitude, \n",
    "            city_longitude, \n",
    "            radius, \n",
    "            LIMIT, \n",
    "            query)\n",
    "        try:\n",
    "            results = requests.get(url).json()[\"response\"]['groups'][0]['items']             \n",
    "            # return only relevant information for each nearby venue\n",
    "            venues_list.append([(\n",
    "                name, \n",
    "                lat, \n",
    "                lng, \n",
    "                v['venue']['name'], \n",
    "                v['venue']['id'], \n",
    "                v['venue']['location']['lat'], \n",
    "                v['venue']['location']['lng'],  \n",
    "                v['venue']['categories'][0]['name']) for v in results])\n",
    "        except ValueError:\n",
    "            print('error',ValueError )\n",
    "            \n",
    "        # make the GET request\n",
    "        \n",
    "        \n",
    "            \n",
    "\n",
    "\n",
    "    nearby_venues = pd.DataFrame([item for venue_list in venues_list for item in venue_list])\n",
    "    nearby_venues.columns = ['Neighborhood', \n",
    "                  'Neighborhood Latitude', \n",
    "                  'Neighborhood Longitude', \n",
    "                  'Venue', \n",
    "                  'id', \n",
    "                  'Venue Latitude', \n",
    "                  'Venue Longitude', \n",
    "                  'Venue Category']\n",
    "    \n",
    "    return(nearby_venues)"
   ]
  },
  {
   "cell_type": "markdown",
   "metadata": {},
   "source": [
    "#### 10.6 Save Result for further use"
   ]
  },
  {
   "cell_type": "markdown",
   "metadata": {},
   "source": [
    "Now call the method and save the result in a picke file for further use. This is saved now for performance reasons. Otherwise each time it will make a call to the server of foursquire, which is an overhead to the system. When you use production system, better to call directly from system instead of picke file"
   ]
  },
  {
   "cell_type": "code",
   "execution_count": 142,
   "metadata": {},
   "outputs": [
    {
     "name": "stdout",
     "output_type": "stream",
     "text": [
      "Umm al Qaywayn\n",
      "Ras al-Khaimah\n",
      "Khawr Fakkān\n",
      "Dubai\n",
      "Dibba Al-Fujairah\n",
      "Dibba Al-Hisn\n",
      "Sharjah\n",
      "Ar Ruways\n",
      "Al Fujayrah\n",
      "Al Ain\n",
      "Ajman\n",
      "Adh Dhayd\n",
      "Abu Dhabi\n"
     ]
    }
   ],
   "source": [
    "# type your answer here\n",
    "if False:\n",
    "    uae_venues = getNearbyVenues(names=df['City'],\n",
    "                                       latitudes=df['Latitude'],\n",
    "                                       longitudes=df['Longitude']\n",
    "                                      )\n",
    "    uae_venues.to_pickle(\"./uae_city_venues.pkl\")\n"
   ]
  },
  {
   "cell_type": "code",
   "execution_count": null,
   "metadata": {},
   "outputs": [],
   "source": []
  },
  {
   "cell_type": "markdown",
   "metadata": {},
   "source": [
    "#### 10.7 Examine all the locations \n",
    "Examine all the location and see the venue id, which is important to make the **premium call** to the foursquare.\n",
    "\n",
    "Optionally read the data from the picke file, if you are working off-line"
   ]
  },
  {
   "cell_type": "code",
   "execution_count": 96,
   "metadata": {},
   "outputs": [],
   "source": [
    "uae_venues = pd.read_pickle(\"./uae_city_venues.pkl\")"
   ]
  },
  {
   "cell_type": "code",
   "execution_count": 97,
   "metadata": {
    "scrolled": false
   },
   "outputs": [
    {
     "data": {
      "text/html": [
       "<div>\n",
       "<style scoped>\n",
       "    .dataframe tbody tr th:only-of-type {\n",
       "        vertical-align: middle;\n",
       "    }\n",
       "\n",
       "    .dataframe tbody tr th {\n",
       "        vertical-align: top;\n",
       "    }\n",
       "\n",
       "    .dataframe thead th {\n",
       "        text-align: right;\n",
       "    }\n",
       "</style>\n",
       "<table border=\"1\" class=\"dataframe\">\n",
       "  <thead>\n",
       "    <tr style=\"text-align: right;\">\n",
       "      <th></th>\n",
       "      <th>Neighborhood</th>\n",
       "      <th>Neighborhood Latitude</th>\n",
       "      <th>Neighborhood Longitude</th>\n",
       "      <th>Venue</th>\n",
       "      <th>id</th>\n",
       "      <th>Venue Latitude</th>\n",
       "      <th>Venue Longitude</th>\n",
       "      <th>Venue Category</th>\n",
       "    </tr>\n",
       "  </thead>\n",
       "  <tbody>\n",
       "    <tr>\n",
       "      <th>0</th>\n",
       "      <td>Umm al Qaywayn</td>\n",
       "      <td>25.56473</td>\n",
       "      <td>55.55517</td>\n",
       "      <td>Lulu Center</td>\n",
       "      <td>4d3057caa62d721ec754997d</td>\n",
       "      <td>25.565576</td>\n",
       "      <td>55.552781</td>\n",
       "      <td>Shopping Mall</td>\n",
       "    </tr>\n",
       "    <tr>\n",
       "      <th>1</th>\n",
       "      <td>Umm al Qaywayn</td>\n",
       "      <td>25.56473</td>\n",
       "      <td>55.55517</td>\n",
       "      <td>Afandim Restaurant</td>\n",
       "      <td>5748496b498e451d7575e43e</td>\n",
       "      <td>25.562439</td>\n",
       "      <td>55.554600</td>\n",
       "      <td>Steakhouse</td>\n",
       "    </tr>\n",
       "    <tr>\n",
       "      <th>2</th>\n",
       "      <td>Umm al Qaywayn</td>\n",
       "      <td>25.56473</td>\n",
       "      <td>55.55517</td>\n",
       "      <td>China Mall Umm Al Quwain</td>\n",
       "      <td>5b40daa467f62b002cceed2c</td>\n",
       "      <td>25.561664</td>\n",
       "      <td>55.553554</td>\n",
       "      <td>Shopping Mall</td>\n",
       "    </tr>\n",
       "    <tr>\n",
       "      <th>3</th>\n",
       "      <td>Umm al Qaywayn</td>\n",
       "      <td>25.56473</td>\n",
       "      <td>55.55517</td>\n",
       "      <td>Cafe Sham</td>\n",
       "      <td>53667749498e51c1bfe0913d</td>\n",
       "      <td>25.563407</td>\n",
       "      <td>55.551682</td>\n",
       "      <td>Coffee Shop</td>\n",
       "    </tr>\n",
       "    <tr>\n",
       "      <th>4</th>\n",
       "      <td>Ras al-Khaimah</td>\n",
       "      <td>25.78953</td>\n",
       "      <td>55.94320</td>\n",
       "      <td>Lulu Center</td>\n",
       "      <td>4d3057caa62d721ec754997d</td>\n",
       "      <td>25.565576</td>\n",
       "      <td>55.552781</td>\n",
       "      <td>Shopping Mall</td>\n",
       "    </tr>\n",
       "    <tr>\n",
       "      <th>5</th>\n",
       "      <td>Ras al-Khaimah</td>\n",
       "      <td>25.78953</td>\n",
       "      <td>55.94320</td>\n",
       "      <td>Afandim Restaurant</td>\n",
       "      <td>5748496b498e451d7575e43e</td>\n",
       "      <td>25.562439</td>\n",
       "      <td>55.554600</td>\n",
       "      <td>Steakhouse</td>\n",
       "    </tr>\n",
       "    <tr>\n",
       "      <th>6</th>\n",
       "      <td>Ras al-Khaimah</td>\n",
       "      <td>25.78953</td>\n",
       "      <td>55.94320</td>\n",
       "      <td>China Mall Umm Al Quwain</td>\n",
       "      <td>5b40daa467f62b002cceed2c</td>\n",
       "      <td>25.561664</td>\n",
       "      <td>55.553554</td>\n",
       "      <td>Shopping Mall</td>\n",
       "    </tr>\n",
       "    <tr>\n",
       "      <th>7</th>\n",
       "      <td>Ras al-Khaimah</td>\n",
       "      <td>25.78953</td>\n",
       "      <td>55.94320</td>\n",
       "      <td>Cafe Sham</td>\n",
       "      <td>53667749498e51c1bfe0913d</td>\n",
       "      <td>25.563407</td>\n",
       "      <td>55.551682</td>\n",
       "      <td>Coffee Shop</td>\n",
       "    </tr>\n",
       "    <tr>\n",
       "      <th>8</th>\n",
       "      <td>Khawr Fakkān</td>\n",
       "      <td>25.33132</td>\n",
       "      <td>56.34199</td>\n",
       "      <td>Lulu Center</td>\n",
       "      <td>4d3057caa62d721ec754997d</td>\n",
       "      <td>25.565576</td>\n",
       "      <td>55.552781</td>\n",
       "      <td>Shopping Mall</td>\n",
       "    </tr>\n",
       "    <tr>\n",
       "      <th>9</th>\n",
       "      <td>Khawr Fakkān</td>\n",
       "      <td>25.33132</td>\n",
       "      <td>56.34199</td>\n",
       "      <td>Afandim Restaurant</td>\n",
       "      <td>5748496b498e451d7575e43e</td>\n",
       "      <td>25.562439</td>\n",
       "      <td>55.554600</td>\n",
       "      <td>Steakhouse</td>\n",
       "    </tr>\n",
       "  </tbody>\n",
       "</table>\n",
       "</div>"
      ],
      "text/plain": [
       "     Neighborhood  Neighborhood Latitude  Neighborhood Longitude  \\\n",
       "0  Umm al Qaywayn               25.56473                55.55517   \n",
       "1  Umm al Qaywayn               25.56473                55.55517   \n",
       "2  Umm al Qaywayn               25.56473                55.55517   \n",
       "3  Umm al Qaywayn               25.56473                55.55517   \n",
       "4  Ras al-Khaimah               25.78953                55.94320   \n",
       "5  Ras al-Khaimah               25.78953                55.94320   \n",
       "6  Ras al-Khaimah               25.78953                55.94320   \n",
       "7  Ras al-Khaimah               25.78953                55.94320   \n",
       "8    Khawr Fakkān               25.33132                56.34199   \n",
       "9    Khawr Fakkān               25.33132                56.34199   \n",
       "\n",
       "                      Venue                        id  Venue Latitude  \\\n",
       "0               Lulu Center  4d3057caa62d721ec754997d       25.565576   \n",
       "1        Afandim Restaurant  5748496b498e451d7575e43e       25.562439   \n",
       "2  China Mall Umm Al Quwain  5b40daa467f62b002cceed2c       25.561664   \n",
       "3                 Cafe Sham  53667749498e51c1bfe0913d       25.563407   \n",
       "4               Lulu Center  4d3057caa62d721ec754997d       25.565576   \n",
       "5        Afandim Restaurant  5748496b498e451d7575e43e       25.562439   \n",
       "6  China Mall Umm Al Quwain  5b40daa467f62b002cceed2c       25.561664   \n",
       "7                 Cafe Sham  53667749498e51c1bfe0913d       25.563407   \n",
       "8               Lulu Center  4d3057caa62d721ec754997d       25.565576   \n",
       "9        Afandim Restaurant  5748496b498e451d7575e43e       25.562439   \n",
       "\n",
       "   Venue Longitude Venue Category  \n",
       "0        55.552781  Shopping Mall  \n",
       "1        55.554600     Steakhouse  \n",
       "2        55.553554  Shopping Mall  \n",
       "3        55.551682    Coffee Shop  \n",
       "4        55.552781  Shopping Mall  \n",
       "5        55.554600     Steakhouse  \n",
       "6        55.553554  Shopping Mall  \n",
       "7        55.551682    Coffee Shop  \n",
       "8        55.552781  Shopping Mall  \n",
       "9        55.554600     Steakhouse  "
      ]
     },
     "execution_count": 97,
     "metadata": {},
     "output_type": "execute_result"
    }
   ],
   "source": [
    "uae_venues.head(10)"
   ]
  },
  {
   "cell_type": "markdown",
   "metadata": {},
   "source": [
    "##  11 Gather Sentiments"
   ]
  },
  {
   "cell_type": "markdown",
   "metadata": {},
   "source": [
    "Now you gather sentiments for the intereted venues. IN our case we focus on the **Lulu Center** with Venue ID *\"4d3057caa62d721ec754997d\"* food center and see how the sentiments works for this food center "
   ]
  },
  {
   "cell_type": "markdown",
   "metadata": {},
   "source": [
    "#### 11.1 Send the foursquare API to gather sentiments of single Venue \n",
    "We can iteratively call the details of the venue and collet the data into a DataFrame from JSON"
   ]
  },
  {
   "cell_type": "code",
   "execution_count": 104,
   "metadata": {
    "scrolled": false
   },
   "outputs": [
    {
     "name": "stdout",
     "output_type": "stream",
     "text": [
      "4d3057caa62d721ec754997d\n",
      "{'tips': {'count': 5, 'items': [{'id': '4f98f2bbe4b00e356b6fb1fa', 'createdAt': 1335423675, 'text': 'Try chicken biriyani here. Awesome!', 'type': 'user', 'canonicalUrl': 'https://foursquare.com/item/4f98f2bbe4b00e356b6fb1fa', 'lang': 'en', 'likes': {'count': 2, 'groups': [{'type': 'others', 'count': 2, 'items': [{'id': '37419229', 'firstName': 'George', 'lastName': 'J Lloyd 😎', 'gender': 'male', 'photo': {'prefix': 'https://fastly.4sqi.net/img/user/', 'suffix': '/37419229-VHUAQED5HH2NRM3Q'}}, {'id': '30323126', 'firstName': 'Tamer', 'lastName': 'Omary', 'gender': 'male', 'photo': {'prefix': 'https://fastly.4sqi.net/img/user/', 'suffix': '/30323126-2WXSOAZIJOK024RO.jpg'}}]}], 'summary': '2 likes'}, 'logView': True, 'agreeCount': 2, 'disagreeCount': 0, 'todo': {'count': 0}, 'user': {'id': '25401528', 'firstName': 'Jacob', 'lastName': 'Verghese', 'gender': 'male', 'photo': {'prefix': 'https://fastly.4sqi.net/img/user/', 'suffix': '/blank_boy.png', 'default': True}}}]}}\n",
      "[{'id': '4f98f2bbe4b00e356b6fb1fa', 'createdAt': 1335423675, 'text': 'Try chicken biriyani here. Awesome!', 'type': 'user', 'canonicalUrl': 'https://foursquare.com/item/4f98f2bbe4b00e356b6fb1fa', 'lang': 'en', 'likes': {'count': 2, 'groups': [{'type': 'others', 'count': 2, 'items': [{'id': '37419229', 'firstName': 'George', 'lastName': 'J Lloyd 😎', 'gender': 'male', 'photo': {'prefix': 'https://fastly.4sqi.net/img/user/', 'suffix': '/37419229-VHUAQED5HH2NRM3Q'}}, {'id': '30323126', 'firstName': 'Tamer', 'lastName': 'Omary', 'gender': 'male', 'photo': {'prefix': 'https://fastly.4sqi.net/img/user/', 'suffix': '/30323126-2WXSOAZIJOK024RO.jpg'}}]}], 'summary': '2 likes'}, 'logView': True, 'agreeCount': 2, 'disagreeCount': 0, 'todo': {'count': 0}, 'user': {'id': '25401528', 'firstName': 'Jacob', 'lastName': 'Verghese', 'gender': 'male', 'photo': {'prefix': 'https://fastly.4sqi.net/img/user/', 'suffix': '/blank_boy.png', 'default': True}}}]\n",
      "   agreeCount                                       canonicalUrl   createdAt  \\\n",
      "0           2  https://foursquare.com/item/4f98f2bbe4b00e356b...  1335423675   \n",
      "\n",
      "   disagreeCount                        id lang  likes.count  \\\n",
      "0              0  4f98f2bbe4b00e356b6fb1fa   en            2   \n",
      "\n",
      "                                        likes.groups likes.summary  logView  \\\n",
      "0  [{'type': 'others', 'count': 2, 'items': [{'id...       2 likes     True   \n",
      "\n",
      "                                  text  todo.count  type user.firstName  \\\n",
      "0  Try chicken biriyani here. Awesome!           0  user          Jacob   \n",
      "\n",
      "  user.gender   user.id user.lastName  user.photo.default  \\\n",
      "0        male  25401528      Verghese                True   \n",
      "\n",
      "                   user.photo.prefix user.photo.suffix  \n",
      "0  https://fastly.4sqi.net/img/user/    /blank_boy.png  \n"
     ]
    }
   ],
   "source": [
    "from pandas.io.json import json_normalize # tranform JSON file into a pandas dataframe\n",
    "for i in range(1, 6):\n",
    "    venue_id = uae_venues.loc[i, 'id'] # neighborhood latitude value\n",
    "    if venue_id == '4d3057caa62d721ec754997d':\n",
    "        query = 'Hotel'\n",
    "        # type your answer here\n",
    "        LIMIT = 100 # limit of number of venues returned by Foursquare API\n",
    "        radius = 500 # define radius\n",
    "\n",
    "        #https://foursquare.com/explore?mode=url&near=Khobar%2C%20Saudi%20Arabia&nearGeoId=72057594038037259&q=starbucks\n",
    "\n",
    "        url = 'https://api.foursquare.com/v2/venues/{}/tips?&client_id={}&client_secret={}&v={}'.format(\n",
    "            venue_id,\n",
    "            CLIENT_ID, \n",
    "            CLIENT_SECRET, \n",
    "            VERSION)\n",
    "\n",
    "        results = requests.get(url).json()\n",
    "\n",
    "        try:\n",
    "            print(venue_id)\n",
    "            print(results['response'])\n",
    "            print(results['response']['tips']['items'])\n",
    "            venues = results['response']['tips']['items']\n",
    "\n",
    "            nearby_venues = json_normalize(venues) # flatten JSON\n",
    "\n",
    "            print(nearby_venues)  \n",
    "        except ValueError:\n",
    "            print('Error', ValueError)\n",
    "\n",
    "        "
   ]
  },
  {
   "cell_type": "markdown",
   "metadata": {},
   "source": [
    "#### 11.2 Tips  (text) collected in a dataframe \n",
    "The nearby_venues hold the text and tips entered by the users as the user reviews. In this example there is only one value. But it can have multiple values"
   ]
  },
  {
   "cell_type": "code",
   "execution_count": 106,
   "metadata": {
    "scrolled": true
   },
   "outputs": [
    {
     "data": {
      "text/html": [
       "<div>\n",
       "<style scoped>\n",
       "    .dataframe tbody tr th:only-of-type {\n",
       "        vertical-align: middle;\n",
       "    }\n",
       "\n",
       "    .dataframe tbody tr th {\n",
       "        vertical-align: top;\n",
       "    }\n",
       "\n",
       "    .dataframe thead th {\n",
       "        text-align: right;\n",
       "    }\n",
       "</style>\n",
       "<table border=\"1\" class=\"dataframe\">\n",
       "  <thead>\n",
       "    <tr style=\"text-align: right;\">\n",
       "      <th></th>\n",
       "      <th>agreeCount</th>\n",
       "      <th>canonicalUrl</th>\n",
       "      <th>createdAt</th>\n",
       "      <th>disagreeCount</th>\n",
       "      <th>id</th>\n",
       "      <th>lang</th>\n",
       "      <th>likes.count</th>\n",
       "      <th>likes.groups</th>\n",
       "      <th>likes.summary</th>\n",
       "      <th>logView</th>\n",
       "      <th>text</th>\n",
       "      <th>todo.count</th>\n",
       "      <th>type</th>\n",
       "      <th>user.firstName</th>\n",
       "      <th>user.gender</th>\n",
       "      <th>user.id</th>\n",
       "      <th>user.lastName</th>\n",
       "      <th>user.photo.default</th>\n",
       "      <th>user.photo.prefix</th>\n",
       "      <th>user.photo.suffix</th>\n",
       "    </tr>\n",
       "  </thead>\n",
       "  <tbody>\n",
       "    <tr>\n",
       "      <th>0</th>\n",
       "      <td>2</td>\n",
       "      <td>https://foursquare.com/item/4f98f2bbe4b00e356b...</td>\n",
       "      <td>1335423675</td>\n",
       "      <td>0</td>\n",
       "      <td>4f98f2bbe4b00e356b6fb1fa</td>\n",
       "      <td>en</td>\n",
       "      <td>2</td>\n",
       "      <td>[{'type': 'others', 'count': 2, 'items': [{'id...</td>\n",
       "      <td>2 likes</td>\n",
       "      <td>True</td>\n",
       "      <td>Try chicken biriyani here. Awesome!</td>\n",
       "      <td>0</td>\n",
       "      <td>user</td>\n",
       "      <td>Jacob</td>\n",
       "      <td>male</td>\n",
       "      <td>25401528</td>\n",
       "      <td>Verghese</td>\n",
       "      <td>True</td>\n",
       "      <td>https://fastly.4sqi.net/img/user/</td>\n",
       "      <td>/blank_boy.png</td>\n",
       "    </tr>\n",
       "  </tbody>\n",
       "</table>\n",
       "</div>"
      ],
      "text/plain": [
       "   agreeCount                                       canonicalUrl   createdAt  \\\n",
       "0           2  https://foursquare.com/item/4f98f2bbe4b00e356b...  1335423675   \n",
       "\n",
       "   disagreeCount                        id lang  likes.count  \\\n",
       "0              0  4f98f2bbe4b00e356b6fb1fa   en            2   \n",
       "\n",
       "                                        likes.groups likes.summary  logView  \\\n",
       "0  [{'type': 'others', 'count': 2, 'items': [{'id...       2 likes     True   \n",
       "\n",
       "                                  text  todo.count  type user.firstName  \\\n",
       "0  Try chicken biriyani here. Awesome!           0  user          Jacob   \n",
       "\n",
       "  user.gender   user.id user.lastName  user.photo.default  \\\n",
       "0        male  25401528      Verghese                True   \n",
       "\n",
       "                   user.photo.prefix user.photo.suffix  \n",
       "0  https://fastly.4sqi.net/img/user/    /blank_boy.png  "
      ]
     },
     "execution_count": 106,
     "metadata": {},
     "output_type": "execute_result"
    }
   ],
   "source": [
    "nearby_venues"
   ]
  },
  {
   "cell_type": "markdown",
   "metadata": {},
   "source": [
    "## 12. Using the Sentiments Predictions"
   ]
  },
  {
   "cell_type": "markdown",
   "metadata": {},
   "source": [
    "Now this is the time to utilize the sentiments analytics model we created as a classification model based on Nave Bayes. We will now use the trained model based on the good quality dataset we got before. \n",
    "\n",
    "Optionally, we can gather more similar comments from Foursquare and update the training database "
   ]
  },
  {
   "cell_type": "markdown",
   "metadata": {},
   "source": [
    "#### 12.1 Prepare the trainng set with the same format of the original training dataframe"
   ]
  },
  {
   "cell_type": "markdown",
   "metadata": {},
   "source": [
    "Get an empty dataset and update the records. For testing purpose and simplicity, we have only one record to check"
   ]
  },
  {
   "cell_type": "code",
   "execution_count": 424,
   "metadata": {},
   "outputs": [],
   "source": [
    "new_df = df[:1]"
   ]
  },
  {
   "cell_type": "markdown",
   "metadata": {},
   "source": [
    "Now prepare the dataframe for prediction"
   ]
  },
  {
   "cell_type": "code",
   "execution_count": null,
   "metadata": {
    "scrolled": true
   },
   "outputs": [],
   "source": [
    "new_df['Hotel_name'] = 'Venue'\n",
    "new_df['Review_Title'] = nearby_venues[\"text\"].loc[0]\n",
    "new_df['Review_Text'] = nearby_venues[\"text\"].loc[0]\n",
    "new_df['Sentiment'] ='3'\n",
    "new_df['Rating_Percentage'] ='100'\n",
    "new_df"
   ]
  },
  {
   "cell_type": "markdown",
   "metadata": {},
   "source": [
    "Now predict the result"
   ]
  },
  {
   "cell_type": "code",
   "execution_count": 432,
   "metadata": {},
   "outputs": [],
   "source": [
    "txt_from_foursquare = new_df['Review_Text']\n",
    "new_predictions = pipeline.predict(txt_from_foursquare)\n"
   ]
  },
  {
   "cell_type": "markdown",
   "metadata": {},
   "source": [
    "#### 12.2 Predicted to have 3 as the sentiments ranking\n",
    "Predicted to have 3 as the sentiments ranking same as we assumed from the text"
   ]
  },
  {
   "cell_type": "code",
   "execution_count": 433,
   "metadata": {},
   "outputs": [],
   "source": [
    "\n",
    "senti_from_foursquare = new_df['Sentiment']"
   ]
  },
  {
   "cell_type": "markdown",
   "metadata": {},
   "source": [
    "#### 12.3 Check for accuracy for our result\n",
    "There is only one record and there is no much meaning in checking the classification report. "
   ]
  },
  {
   "cell_type": "code",
   "execution_count": 435,
   "metadata": {
    "scrolled": false
   },
   "outputs": [
    {
     "name": "stdout",
     "output_type": "stream",
     "text": [
      "             precision    recall  f1-score   support\n",
      "\n",
      "          3       1.00      1.00      1.00         1\n",
      "\n",
      "avg / total       1.00      1.00      1.00         1\n",
      "\n"
     ]
    }
   ],
   "source": [
    "\n",
    "print(classification_report(senti_from_foursquare, new_predictions))"
   ]
  },
  {
   "cell_type": "markdown",
   "metadata": {},
   "source": [
    "#### 12.4 Compare the results\n",
    "Now check the result to the old result. It is found:\n",
    "\n",
    "* We have a F1-Score of 94%(.95), "
   ]
  },
  {
   "cell_type": "code",
   "execution_count": 107,
   "metadata": {},
   "outputs": [
    {
     "name": "stdout",
     "output_type": "stream",
     "text": [
      "             precision    recall  f1-score   support\n",
      "\n",
      "          1       0.33      1.00      0.50         1\n",
      "          2       1.00      1.00      1.00         1\n",
      "          3       1.00      0.91      0.95        23\n",
      "\n",
      "avg / total       0.97      0.92      0.94        25\n",
      "\n"
     ]
    }
   ],
   "source": [
    "print(classification_report(predictions,senti_test))"
   ]
  },
  {
   "cell_type": "markdown",
   "metadata": {},
   "source": [
    "## 13 Final Remakrs\n",
    "The score says the quality of the model is good enough for this scenario. Further improvements to the model can be done based on more refied data and trying different algorithms with different hyperparameter "
   ]
  },
  {
   "cell_type": "markdown",
   "metadata": {},
   "source": [
    "Thanks for reading ... **have a great day**! "
   ]
  }
 ],
 "metadata": {
  "kernelspec": {
   "display_name": "Python 3",
   "language": "python",
   "name": "python3"
  },
  "language_info": {
   "codemirror_mode": {
    "name": "ipython",
    "version": 3
   },
   "file_extension": ".py",
   "mimetype": "text/x-python",
   "name": "python",
   "nbconvert_exporter": "python",
   "pygments_lexer": "ipython3",
   "version": "3.6.5"
  }
 },
 "nbformat": 4,
 "nbformat_minor": 2
}
